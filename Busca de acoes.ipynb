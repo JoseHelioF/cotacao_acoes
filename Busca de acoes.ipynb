{
 "cells": [
  {
   "cell_type": "code",
   "execution_count": 14,
   "metadata": {},
   "outputs": [
    {
     "name": "stdout",
     "output_type": "stream",
     "text": [
      "0     23.76\n",
      "1    109.65\n",
      "2     12.21\n",
      "3     49.96\n",
      "4     23.35\n",
      "5     39.40\n",
      "6     96.97\n",
      "7     62.61\n",
      "8    112.45\n",
      "9     11.97\n",
      "Name: 0, dtype: object\n"
     ]
    }
   ],
   "source": [
    "from selenium import webdriver\n",
    "from selenium.webdriver.common.keys import Keys\n",
    "from time import sleep\n",
    "import pandas as pd\n",
    "lista=['bbdc4','bpac11','ccro3','csna3','cyre3','igta3','prio3','rent3','vale3','vvar3']\n",
    "cotacao=[]\n",
    "navegador=webdriver.Chrome()\n",
    "navegador.get('https://finance.yahoo.com/')\n",
    "\n",
    "for acao in lista:\n",
    "    navegador.find_element_by_xpath('//*[@id=\"yfin-usr-qry\"]').send_keys(acao)\n",
    "    navegador.find_element_by_xpath('//*[@id=\"yfin-usr-qry\"]').send_keys(Keys.ENTER)\n",
    "    sleep(3)\n",
    "    valor=navegador.find_element_by_xpath('//*[@id=\"quote-header-info\"]/div[3]/div[1]/div/span[1]')\n",
    "    #print(acao,\"R$ \",valor.text)\n",
    "    cotacao.append(valor.text)\n",
    "\n",
    "n = pd.DataFrame(cotacao)\n",
    "print (n[0])\n"
   ]
  },
  {
   "cell_type": "code",
   "execution_count": null,
   "metadata": {},
   "outputs": [],
   "source": []
  }
 ],
 "metadata": {
  "kernelspec": {
   "display_name": "Python 3",
   "language": "python",
   "name": "python3"
  },
  "language_info": {
   "codemirror_mode": {
    "name": "ipython",
    "version": 3
   },
   "file_extension": ".py",
   "mimetype": "text/x-python",
   "name": "python",
   "nbconvert_exporter": "python",
   "pygments_lexer": "ipython3",
   "version": "3.8.3"
  }
 },
 "nbformat": 4,
 "nbformat_minor": 4
}
